{
  "nbformat": 4,
  "nbformat_minor": 0,
  "metadata": {
    "colab": {
      "provenance": [],
      "gpuType": "T4",
      "authorship_tag": "ABX9TyOF85nQsWqGswbEUqEPXCyP",
      "include_colab_link": true
    },
    "kernelspec": {
      "name": "python3",
      "display_name": "Python 3"
    },
    "language_info": {
      "name": "python"
    },
    "accelerator": "GPU"
  },
  "cells": [
    {
      "cell_type": "markdown",
      "metadata": {
        "id": "view-in-github",
        "colab_type": "text"
      },
      "source": [
        "<a href=\"https://colab.research.google.com/github/WilsonG08/redNeuronalConvolucional/blob/main/redNeuronalConvolucional.ipynb\" target=\"_parent\"><img src=\"https://colab.research.google.com/assets/colab-badge.svg\" alt=\"Open In Colab\"/></a>"
      ]
    },
    {
      "cell_type": "code",
      "execution_count": null,
      "metadata": {
        "id": "-zAHEm3C6o_X"
      },
      "outputs": [],
      "source": [
        "# Librerias\n",
        "from tensorflow.keras.layers import Conv2D, MaxPooling2D, Flatten, Dense\n",
        "import numpy as np\n",
        "import tensorflow as tf\n",
        "import keras\n",
        "import matplotlib.pyplot as plt\n",
        "from tensorflow.keras.models import Sequential\n"
      ]
    },
    {
      "cell_type": "code",
      "source": [
        "# Cargar datos de entrenamiento y prueba\n",
        "(x_train, y_train), (x_test, y_test) = keras.datasets.mnist.load_data()\n",
        "\n",
        "# Forma de las imágenes 28 x 28 pixeles (60000)\n",
        "print(x_train.shape)\n",
        "\n",
        "# Mostrar imagen de la posición\n",
        "plt.imshow(x_train[711])\n",
        "\n",
        "# Estandarizar los valores entre 0 y 1 pixeles (0 y 255)\n",
        "x_train = x_train.astype(\"float32\") / 255\n",
        "x_test = x_test.astype(\"float32\") / 255\n",
        "\n",
        "# Cambiar forma de los datos de entrada a 28*28 y a blanco/negro\n",
        "# El campo es para definir el color o b/n\n",
        "# -1 -> establecer automáticamente la dimensión\n",
        "# 1 -> negro\n",
        "# 3 -> color\n",
        "x_train = x_train.reshape(-1, 28, 28, 1)\n",
        "x_test = x_test.reshape(-1, 28, 28, 1)\n",
        "\n",
        "# Crear Arquitectura de la red neuronal\n",
        "# Trabajamos con una red neuronal Convolucional\n",
        "modelo = keras.Sequential()\n",
        "\n",
        "# Capa convolución (#filtros, kernel, func activación, forma entrada)\n",
        "capa_convolucion = Conv2D(32, kernel_size=(3, 3), activation=\"relu\", input_shape=(28, 28, 1))\n",
        "\n",
        "# Capa Agrupamiento (pool_size(2,2)) cada región de 2x2 pixeles en la entrada se reduce a un solo pixel\n",
        "capa_agrupamiento = MaxPooling2D(pool_size=(2, 2))\n",
        "\n",
        "# Capa aplanamiento\n",
        "capa_aplanamiento = Flatten()\n",
        "\n",
        "# Capa Densas (escondidas)\n",
        "capa_oculta1 = Dense(units=64, activation=\"relu\")\n",
        "# Capa salida, depende de las salidas\n",
        "capa_salida = Dense(units=10, activation=\"softmax\")\n",
        "\n",
        "# Compilar modelo\n",
        "modelo = keras.Sequential([capa_convolucion, capa_agrupamiento, capa_aplanamiento, capa_oculta1, capa_salida])\n",
        "\n",
        "# Pasar a categoricas (10 salidas)\n",
        "y_train = keras.utils.to_categorical(y_train, num_classes=10)\n",
        "y_test = keras.utils.to_categorical(y_test, num_classes=10)\n",
        "\n",
        "# Compilar el modelo\n",
        "modelo.compile(optimizer='adam', loss='categorical_crossentropy', metrics=[\"accuracy\"])\n",
        "\n",
        "# Entrenando el modelo\n",
        "#epochs número de veces que el modelo recorrera todo el conjunto de datos de entrenamiento\n",
        "modelo.fit(x_train, y_train, epochs=5, batch_size=128)\n",
        "\n",
        "# Evaluar el modelo con los datos de prueba\n",
        "perdida = modelo.evaluate(x_test, y_test)\n",
        "print(\"La funcion de perdida es : \", perdida[0])\n",
        "print(\"La precision es : \", perdida[1])\n",
        "\n",
        "\n",
        "# Leer una imagen del conjunto\n",
        "# imagen = x_test[88]\n",
        "import cv2 as cv\n",
        "#imagen = cv.imread('ocho.jpg')\n",
        "imagen = cv.imread('ocho.jpg')\n",
        "\n",
        "# Aplicar un filtro de desenfoque cv.GaussianBlur(imagen,(imagen,kernel),desv_estandar)\n",
        "imagen = cv.GaussianBlur(imagen,(3,3),0)\n",
        "\n",
        "# Convertir a escala de grises\n",
        "imagen = cv.cvtColor(imagen, cv.COLOR_BGR2GRAY)\n",
        "\n",
        "# Redimensionar las imagenes a un tamaño de 28 x 28\n",
        "imagen = cv.resize(imagen,(28,28), interpolation=cv.INTER_NEAREST)\n",
        "\n",
        "# Aplicar la inversion de colores (intensidad de gris)\n",
        "imagen = cv.bitwise_not(imagen)\n",
        "plt.imshow(imagen)\n",
        "\n",
        "# Agregar una dimension adicional para representar el canal del color (escala grises)\n",
        "# -1 se utiliza para indicar la posicion en la que se debe agregar la nueva dimension\n",
        "imagen = np.expand_dims(imagen, axis=-1)\n",
        "\n",
        "# Agregar una dimesion adicional para representar el lote de imagenes\n",
        "imagen = np.expand_dims(imagen, axis=0)\n",
        "\n",
        "# Realizar a prediccion\n",
        "prediccion = modelo.predict(imagen)\n",
        "predicted_class = np.argmax(prediccion[0])\n",
        "#plt.imshow(x_test[88])\n",
        "\n",
        "\n",
        "\n",
        "# Imprimir la clase predicha\n",
        "print(\"La imagen se clasifica como:\",predicted_class)\n",
        "\n",
        "\n"
      ],
      "metadata": {
        "colab": {
          "base_uri": "https://localhost:8080/",
          "height": 708
        },
        "id": "DfmU4hoI7XNH",
        "outputId": "743961fa-b2c2-4daf-a1c8-5c81154f701f"
      },
      "execution_count": 8,
      "outputs": [
        {
          "output_type": "stream",
          "name": "stdout",
          "text": [
            "(60000, 28, 28)\n",
            "Epoch 1/5\n",
            "469/469 [==============================] - 6s 7ms/step - loss: 0.2564 - accuracy: 0.9276\n",
            "Epoch 2/5\n",
            "469/469 [==============================] - 3s 7ms/step - loss: 0.0811 - accuracy: 0.9767\n",
            "Epoch 3/5\n",
            "469/469 [==============================] - 2s 5ms/step - loss: 0.0546 - accuracy: 0.9839\n",
            "Epoch 4/5\n",
            "469/469 [==============================] - 3s 5ms/step - loss: 0.0419 - accuracy: 0.9877\n",
            "Epoch 5/5\n",
            "469/469 [==============================] - 2s 4ms/step - loss: 0.0327 - accuracy: 0.9901\n",
            "313/313 [==============================] - 1s 2ms/step - loss: 0.0522 - accuracy: 0.9843\n",
            "La funcion de perdida es :  0.05217592790722847\n",
            "La precision es :  0.9843000173568726\n",
            "1/1 [==============================] - 0s 71ms/step\n",
            "La imagen se clasifica como: 8\n"
          ]
        },
        {
          "output_type": "display_data",
          "data": {
            "text/plain": [
              "<Figure size 640x480 with 1 Axes>"
            ],
            "image/png": "[encoded data removed]"
          },
          "metadata": {}
        }
      ]
    },
    {
      "cell_type": "code",
      "source": [],
      "metadata": {
        "id": "Whr1HvrA8QTu"
      },
      "execution_count": null,
      "outputs": []
    }
  ]
}